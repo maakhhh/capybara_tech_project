{
  "nbformat": 4,
  "nbformat_minor": 0,
  "metadata": {
    "colab": {
      "provenance": [],
      "gpuType": "T4"
    },
    "kernelspec": {
      "name": "python3",
      "display_name": "Python 3"
    },
    "language_info": {
      "name": "python"
    },
    "accelerator": "GPU"
  },
  "cells": [
    {
      "cell_type": "code",
      "source": [
        "%pip install gymnasium\n",
        "%pip install sklearn\n",
        "%pip install collections\n",
        "%pip install keras"
      ],
      "metadata": {
        "colab": {
          "base_uri": "https://localhost:8080/"
        },
        "id": "fnjcn5TYn0BG",
        "outputId": "9335892a-0e3a-4def-d167-db3eeb79c499"
      },
      "execution_count": null,
      "outputs": [
        {
          "output_type": "stream",
          "name": "stdout",
          "text": [
            "Collecting gymnasium\n",
            "  Downloading gymnasium-0.29.1-py3-none-any.whl (953 kB)\n",
            "\u001b[2K     \u001b[90m━━━━━━━━━━━━━━━━━━━━━━━━━━━━━━━━━━━━━━━━\u001b[0m \u001b[32m953.9/953.9 kB\u001b[0m \u001b[31m5.2 MB/s\u001b[0m eta \u001b[36m0:00:00\u001b[0m\n",
            "\u001b[?25hRequirement already satisfied: numpy>=1.21.0 in /usr/local/lib/python3.10/dist-packages (from gymnasium) (1.23.5)\n",
            "Requirement already satisfied: cloudpickle>=1.2.0 in /usr/local/lib/python3.10/dist-packages (from gymnasium) (2.2.1)\n",
            "Requirement already satisfied: typing-extensions>=4.3.0 in /usr/local/lib/python3.10/dist-packages (from gymnasium) (4.5.0)\n",
            "Collecting farama-notifications>=0.0.1 (from gymnasium)\n",
            "  Downloading Farama_Notifications-0.0.4-py3-none-any.whl (2.5 kB)\n",
            "Installing collected packages: farama-notifications, gymnasium\n",
            "Successfully installed farama-notifications-0.0.4 gymnasium-0.29.1\n",
            "Collecting sklearn\n",
            "  Downloading sklearn-0.0.post12.tar.gz (2.6 kB)\n",
            "  \u001b[1;31merror\u001b[0m: \u001b[1msubprocess-exited-with-error\u001b[0m\n",
            "  \n",
            "  \u001b[31m×\u001b[0m \u001b[32mpython setup.py egg_info\u001b[0m did not run successfully.\n",
            "  \u001b[31m│\u001b[0m exit code: \u001b[1;36m1\u001b[0m\n",
            "  \u001b[31m╰─>\u001b[0m See above for output.\n",
            "  \n",
            "  \u001b[1;35mnote\u001b[0m: This error originates from a subprocess, and is likely not a problem with pip.\n",
            "  Preparing metadata (setup.py) ... \u001b[?25l\u001b[?25herror\n",
            "\u001b[1;31merror\u001b[0m: \u001b[1mmetadata-generation-failed\u001b[0m\n",
            "\n",
            "\u001b[31m×\u001b[0m Encountered error while generating package metadata.\n",
            "\u001b[31m╰─>\u001b[0m See above for output.\n",
            "\n",
            "\u001b[1;35mnote\u001b[0m: This is an issue with the package mentioned above, not pip.\n",
            "\u001b[1;36mhint\u001b[0m: See above for details.\n",
            "\u001b[31mERROR: Could not find a version that satisfies the requirement collections (from versions: none)\u001b[0m\u001b[31m\n",
            "\u001b[0m\u001b[31mERROR: No matching distribution found for collections\u001b[0m\u001b[31m\n",
            "\u001b[0mRequirement already satisfied: keras in /usr/local/lib/python3.10/dist-packages (2.15.0)\n"
          ]
        }
      ]
    },
    {
      "cell_type": "markdown",
      "source": [
        "# Новый раздел"
      ],
      "metadata": {
        "id": "gsSj8hhXH-lr"
      }
    },
    {
      "cell_type": "code",
      "source": [
        "import gymnasium as gym\n",
        "import numpy as np\n",
        "import pandas as pd\n",
        "from sklearn.ensemble import RandomForestClassifier\n",
        "from sklearn.metrics import accuracy_score, classification_report, confusion_matrix\n",
        "from sklearn.model_selection import RandomizedSearchCV, train_test_split\n",
        "import random\n",
        "from collections import deque\n",
        "import keras\n",
        "from keras.models import Sequential\n",
        "from keras.layers import Dense\n",
        "from keras.optimizers import Adam\n",
        "from sklearn import preprocessing\n",
        "from sklearn import utils\n"
      ],
      "metadata": {
        "id": "dOeB6hzwozbP"
      },
      "execution_count": null,
      "outputs": []
    },
    {
      "cell_type": "markdown",
      "source": [
        "The function representing the value\n",
        "of an action can be seen as a table that maps all states\n",
        "and all actions to the expected long-term return. In our\n",
        "case, the dimension of this table is large and compiling it\n",
        "requires high computational costs."
      ],
      "metadata": {
        "id": "suAhGADTYpxa"
      }
    },
    {
      "cell_type": "code",
      "source": [
        "def normalize(data):\n",
        "    mean = data.mean(axis=0)\n",
        "    std = data.std(axis=0)\n",
        "    data -= mean\n",
        "    data /= std\n",
        "    return data"
      ],
      "metadata": {
        "id": "wle3bXdsKxI5"
      },
      "execution_count": null,
      "outputs": []
    },
    {
      "cell_type": "code",
      "source": [
        "class Detector:\n",
        "    def __init__(self, classifier):\n",
        "        self.classifier = classifier;\n",
        "\n",
        "    def predict(self, x):\n",
        "        y = self.classifier.predict(x);\n",
        "        return y\n",
        "\n",
        "    def test(self, data):\n",
        "        y = data['Malware']\n",
        "        x = data.drop('Malware', axis=1)\n",
        "        x = normalize(x)\n",
        "        y_pred = self.classifier.predict(x)\n",
        "        accuracy = accuracy_score(y, y_pred)\n",
        "        matrix = confusion_matrix(y, y_pred)\n",
        "        report = classification_report(y, y_pred)\n",
        "        print(\"Accuracy:\", accuracy)\n",
        "        print(matrix)\n",
        "        print(report)\n",
        "\n",
        "    def fit(self, data):\n",
        "        y = data['Malware']\n",
        "        x = data.drop('Malware', axis=1)\n",
        "        x = normalize(x)\n",
        "        self.classifier.fit(x, y)"
      ],
      "metadata": {
        "id": "UEC8LUNGlWQ6"
      },
      "execution_count": null,
      "outputs": []
    },
    {
      "cell_type": "code",
      "execution_count": null,
      "metadata": {
        "id": "piVVyFvQndYS"
      },
      "outputs": [],
      "source": [
        "class Enviroment(gym.Env):\n",
        "    def __init__(self, detector, attack_traffic):\n",
        "        super().__init__()\n",
        "        self.result = []\n",
        "        # self.result = pd.DataFrame({\"Flow Duration\": [], \"TotLen Fwd Pkts\": [], \"TotLen Bwd Pkts\": [],\n",
        "        #                                      \"Flow Byts/s\": [], \"Flow Pkts/s\": [], \"Bwd/Fwd Ratio\": [], \"Pkt Size Avg\": [], \"Malware\": []})\n",
        "        self.detector = detector\n",
        "        self.current_state_id = 0\n",
        "        self.start_states = attack_traffic\n",
        "        self.start = attack_traffic.iloc[self.current_state_id]\n",
        "        self.state = attack_traffic.iloc[self.current_state_id]\n",
        "        self.space = [{\"Name\": \"Flow Duration\", \"Action\": \"+Flow Duration\", \"Value\": 0.01},\n",
        "                      {\"Name\": \"Flow Duration\", \"Action\": \"-Flow Duration\", \"Value\": -0.01},\n",
        "                      {\"Name\": \"TotLen Fwd Pkts\", \"Action\": \"+TotLen Fwd Pkts\", \"Value\": 0.01},\n",
        "                      {\"Name\": \"TotLen Fwd Pkts\", \"Action\": \"-TotLen Fwd Pkts\", \"Value\": -0.01},\n",
        "                      {\"Name\": \"TotLen Bwd Pkts\", \"Action\": \"+TotLen Bwd Pkts\", \"Value\": 0.01},\n",
        "                      {\"Name\": \"TotLen Bwd Pkts\", \"Action\": \"-TotLen Bwd Pkts\", \"Value\": -0.01},\n",
        "                      {\"Name\": \"Flow Byts/s\", \"Action\": \"+Flow Byts/s\", \"Value\": 0.01},\n",
        "                      {\"Name\": \"Flow Byts/s\", \"Action\": \"-Flow Byts/s\", \"Value\": -0.01},\n",
        "                      {\"Name\": \"Flow Pkts/s\", \"Action\": \"+Flow Pkts/s\", \"Value\": 0.01},\n",
        "                      {\"Name\": \"Flow Pkts/s\", \"Action\": \"-Flow Pkts/s\", \"Value\": -0.01},\n",
        "                      {\"Name\": \"Bwd/Fwd Ratio\", \"Action\": \"+Bwd/Fwd Ratio\", \"Value\": 0.01},\n",
        "                      {\"Name\": \"Bwd/Fwd Ratio\", \"Action\": \"-Bwd/Fwd Ratio\", \"Value\": -0.01},\n",
        "                      {\"Name\": \"Pkt Size Avg\", \"Action\": \"+Pkt Size Avg\", \"Value\": 0.01},\n",
        "                      {\"Name\": \"Pkt Size Avg\", \"Action\": \"-Pkt Size Avg\", \"Value\": -0.01}]\n",
        "\n",
        "    def reset(self):\n",
        "        self.state = self.start\n",
        "        self.current_state_id = 0\n",
        "        return self.state.values.reshape(1, -1)\n",
        "\n",
        "    def step(self, action_n):\n",
        "        action = self.space[action_n]\n",
        "        self.state[action[\"Name\"]] += action[\"Value\"]\n",
        "        result = self.detector.predict(self.state.values.reshape(1, -1))\n",
        "        if result == 0:\n",
        "          curr_state = self.state.copy()\n",
        "          curr_state[\"Malware\"] = 1\n",
        "          self.result.append(curr_state.to_dict())\n",
        "\n",
        "          # self.result = pd.concat([self.result, curr_state], ignore_index=True)\n",
        "          self.current_state_id = self.current_state_id + 1 if self.current_state_id + 1 < len(self.start_states) else 0\n",
        "          self.state = self.start_states.iloc[self.current_state_id]\n",
        "        return (self.state.values.reshape(1, -1), 1 if result == 0 else 0, False)"
      ]
    },
    {
      "cell_type": "code",
      "source": [
        "class DQLAgent:\n",
        "    def __init__(self, state_size, action_size):\n",
        "        self.state_size = state_size # Сколько фич изменяем\n",
        "        self.action_size = action_size # В каком объеме меняем\n",
        "        self.memory = deque(maxlen=2000)\n",
        "        self.gamma = 0.95\n",
        "        self.epsilon = 1.0\n",
        "        self.epsilon_decay = 0.995\n",
        "        self.epsilon_min = 0.01\n",
        "        self.model = self.build_model()\n",
        "\n",
        "    def build_model(self):\n",
        "        model = Sequential()\n",
        "        model.add(Dense(512, input_dim=self.state_size, activation='relu'))\n",
        "        model.add(Dense(256, activation='relu'))\n",
        "        model.add(Dense(self.action_size, activation='linear'))\n",
        "        opt = keras.optimizers.Adam(use_ema=True)\n",
        "        model.compile(loss='mse', optimizer=opt)\n",
        "        return model\n",
        "\n",
        "    def remember(self, state, action, reward, next_state, done):\n",
        "        self.memory.append((state, action, reward, next_state, done))\n",
        "\n",
        "    def act(self, state):\n",
        "        if np.random.rand() <= self.epsilon:\n",
        "            return random.randrange(self.action_size)\n",
        "        act_values = self.model.predict(state)\n",
        "        return np.argmax(act_values[0])\n",
        "\n",
        "    def replay(self, batch_size):\n",
        "        batch_size = min(batch_size, len(self.memory))\n",
        "        minibatch = random.sample(self.memory, batch_size)\n",
        "        for state, action, reward, next_state, done in minibatch:\n",
        "            target = reward\n",
        "            if not done:\n",
        "                target = (reward + self.gamma * np.amax(self.model.predict(next_state)[0]))\n",
        "            target_f = self.model.predict(state)\n",
        "            target_f[0][action] = target\n",
        "            self.model.fit(state, target_f, epochs=1, verbose=0)\n",
        "        if self.epsilon > self.epsilon_min:\n",
        "            self.epsilon *= self.epsilon_decay"
      ],
      "metadata": {
        "id": "Vro1NYoNLfgE"
      },
      "execution_count": null,
      "outputs": []
    },
    {
      "cell_type": "code",
      "source": [
        "class Learner:\n",
        "  def __init__(self, agent, env):\n",
        "    self.agent = agent\n",
        "    self.env = env\n",
        "\n",
        "  def fit(self, epoch_n):\n",
        "    state = self.env.reset()\n",
        "    for _ in range(epoch_n):\n",
        "      action = self.agent.act(state)\n",
        "      new_state, reward, done = self.env.step(action)\n",
        "      self.agent.remember(state, action, reward, new_state, done)\n",
        "      self.agent.replay(10)"
      ],
      "metadata": {
        "id": "o4IFQheS2brH"
      },
      "execution_count": null,
      "outputs": []
    },
    {
      "cell_type": "code",
      "source": [
        "data = pd.read_csv('Botnet-Training-Short.csv')\n",
        "forest = RandomForestClassifier()\n",
        "detector = Detector(forest)\n",
        "detector.fit(data)\n",
        "test_data = pd.read_csv('Botnet-Testing-Short.csv')\n",
        "detector.test(test_data)"
      ],
      "metadata": {
        "id": "Vvri8PLvh_2I",
        "colab": {
          "base_uri": "https://localhost:8080/"
        },
        "outputId": "0cac3184-66e0-4cfa-bcd5-f048b241f383"
      },
      "execution_count": null,
      "outputs": [
        {
          "output_type": "stream",
          "name": "stdout",
          "text": [
            "Accuracy: 0.7460011946638349\n",
            "[[21633  1410]\n",
            " [ 6244   847]]\n",
            "              precision    recall  f1-score   support\n",
            "\n",
            "           0       0.78      0.94      0.85     23043\n",
            "           1       0.38      0.12      0.18      7091\n",
            "\n",
            "    accuracy                           0.75     30134\n",
            "   macro avg       0.58      0.53      0.52     30134\n",
            "weighted avg       0.68      0.75      0.69     30134\n",
            "\n"
          ]
        }
      ]
    },
    {
      "cell_type": "code",
      "source": [
        "df = pd.read_csv('Botnet-Training-Short.csv')\n",
        "state = df.loc[df['Malware'] == 1]\n",
        "state = state.drop('Malware', axis=1)\n",
        "state = normalize(state)\n",
        "state = state.head(1)\n",
        "env = Enviroment(detector, state)\n",
        "agent = DQLAgent(7,14)\n",
        "learner = Learner(agent, env)\n",
        "learner.fit(10)\n",
        "\n"
      ],
      "metadata": {
        "id": "laA38_Pei7o0",
        "colab": {
          "base_uri": "https://localhost:8080/"
        },
        "outputId": "55c1dd8a-2b02-4b3e-bc0f-2b98f4fb50f8"
      },
      "execution_count": null,
      "outputs": [
        {
          "output_type": "stream",
          "name": "stdout",
          "text": [
            "1/1 [==============================] - 0s 53ms/step\n",
            "1/1 [==============================] - 0s 19ms/step\n"
          ]
        },
        {
          "output_type": "stream",
          "name": "stderr",
          "text": [
            "/usr/local/lib/python3.10/dist-packages/sklearn/base.py:439: UserWarning: X does not have valid feature names, but RandomForestClassifier was fitted with feature names\n",
            "  warnings.warn(\n"
          ]
        },
        {
          "output_type": "stream",
          "name": "stdout",
          "text": [
            "1/1 [==============================] - 0s 18ms/step\n",
            "1/1 [==============================] - 0s 17ms/step\n"
          ]
        },
        {
          "output_type": "stream",
          "name": "stderr",
          "text": [
            "/usr/local/lib/python3.10/dist-packages/sklearn/base.py:439: UserWarning: X does not have valid feature names, but RandomForestClassifier was fitted with feature names\n",
            "  warnings.warn(\n"
          ]
        },
        {
          "output_type": "stream",
          "name": "stdout",
          "text": [
            "1/1 [==============================] - 0s 17ms/step\n",
            "1/1 [==============================] - 0s 19ms/step\n",
            "1/1 [==============================] - 0s 17ms/step\n",
            "1/1 [==============================] - 0s 16ms/step\n"
          ]
        },
        {
          "output_type": "stream",
          "name": "stderr",
          "text": [
            "/usr/local/lib/python3.10/dist-packages/sklearn/base.py:439: UserWarning: X does not have valid feature names, but RandomForestClassifier was fitted with feature names\n",
            "  warnings.warn(\n"
          ]
        },
        {
          "output_type": "stream",
          "name": "stdout",
          "text": [
            "1/1 [==============================] - 0s 23ms/step\n",
            "1/1 [==============================] - 0s 17ms/step\n",
            "1/1 [==============================] - 0s 18ms/step\n",
            "1/1 [==============================] - 0s 17ms/step\n",
            "1/1 [==============================] - 0s 25ms/step\n",
            "1/1 [==============================] - 0s 17ms/step\n"
          ]
        },
        {
          "output_type": "stream",
          "name": "stderr",
          "text": [
            "/usr/local/lib/python3.10/dist-packages/sklearn/base.py:439: UserWarning: X does not have valid feature names, but RandomForestClassifier was fitted with feature names\n",
            "  warnings.warn(\n"
          ]
        },
        {
          "output_type": "stream",
          "name": "stdout",
          "text": [
            "1/1 [==============================] - 0s 16ms/step\n",
            "1/1 [==============================] - 0s 16ms/step\n",
            "1/1 [==============================] - 0s 16ms/step\n",
            "1/1 [==============================] - 0s 16ms/step\n",
            "1/1 [==============================] - 0s 16ms/step\n",
            "1/1 [==============================] - 0s 16ms/step\n",
            "1/1 [==============================] - 0s 17ms/step\n",
            "1/1 [==============================] - 0s 22ms/step\n"
          ]
        },
        {
          "output_type": "stream",
          "name": "stderr",
          "text": [
            "/usr/local/lib/python3.10/dist-packages/sklearn/base.py:439: UserWarning: X does not have valid feature names, but RandomForestClassifier was fitted with feature names\n",
            "  warnings.warn(\n"
          ]
        },
        {
          "output_type": "stream",
          "name": "stdout",
          "text": [
            "1/1 [==============================] - 0s 17ms/step\n",
            "1/1 [==============================] - 0s 22ms/step\n",
            "1/1 [==============================] - 0s 17ms/step\n",
            "1/1 [==============================] - 0s 17ms/step\n",
            "1/1 [==============================] - 0s 25ms/step\n",
            "1/1 [==============================] - 0s 26ms/step\n",
            "1/1 [==============================] - 0s 27ms/step\n",
            "1/1 [==============================] - 0s 24ms/step\n",
            "1/1 [==============================] - 0s 26ms/step\n",
            "1/1 [==============================] - 0s 27ms/step\n"
          ]
        },
        {
          "output_type": "stream",
          "name": "stderr",
          "text": [
            "/usr/local/lib/python3.10/dist-packages/sklearn/base.py:439: UserWarning: X does not have valid feature names, but RandomForestClassifier was fitted with feature names\n",
            "  warnings.warn(\n"
          ]
        },
        {
          "output_type": "stream",
          "name": "stdout",
          "text": [
            "1/1 [==============================] - 0s 24ms/step\n",
            "1/1 [==============================] - 0s 23ms/step\n",
            "1/1 [==============================] - 0s 25ms/step\n",
            "1/1 [==============================] - 0s 67ms/step\n",
            "1/1 [==============================] - 0s 78ms/step\n",
            "1/1 [==============================] - 0s 98ms/step\n",
            "1/1 [==============================] - 0s 90ms/step\n",
            "1/1 [==============================] - 0s 26ms/step\n",
            "1/1 [==============================] - 0s 40ms/step\n",
            "1/1 [==============================] - 0s 63ms/step\n"
          ]
        },
        {
          "output_type": "stream",
          "name": "stderr",
          "text": [
            "/usr/local/lib/python3.10/dist-packages/sklearn/base.py:439: UserWarning: X does not have valid feature names, but RandomForestClassifier was fitted with feature names\n",
            "  warnings.warn(\n"
          ]
        },
        {
          "output_type": "stream",
          "name": "stdout",
          "text": [
            "1/1 [==============================] - 0s 36ms/step\n",
            "1/1 [==============================] - 0s 33ms/step\n",
            "1/1 [==============================] - 0s 32ms/step\n",
            "1/1 [==============================] - 0s 30ms/step\n",
            "1/1 [==============================] - 0s 76ms/step\n",
            "1/1 [==============================] - 0s 42ms/step\n",
            "1/1 [==============================] - 0s 27ms/step\n",
            "1/1 [==============================] - 0s 99ms/step\n",
            "1/1 [==============================] - 0s 32ms/step\n",
            "1/1 [==============================] - 0s 29ms/step\n",
            "1/1 [==============================] - 0s 29ms/step\n",
            "1/1 [==============================] - 0s 25ms/step\n",
            "1/1 [==============================] - 0s 18ms/step\n",
            "1/1 [==============================] - 0s 17ms/step\n",
            "1/1 [==============================] - 0s 17ms/step\n",
            "1/1 [==============================] - 0s 18ms/step\n"
          ]
        },
        {
          "output_type": "stream",
          "name": "stderr",
          "text": [
            "/usr/local/lib/python3.10/dist-packages/sklearn/base.py:439: UserWarning: X does not have valid feature names, but RandomForestClassifier was fitted with feature names\n",
            "  warnings.warn(\n"
          ]
        },
        {
          "output_type": "stream",
          "name": "stdout",
          "text": [
            "1/1 [==============================] - 0s 17ms/step\n",
            "1/1 [==============================] - 0s 18ms/step\n",
            "1/1 [==============================] - 0s 17ms/step\n",
            "1/1 [==============================] - 0s 19ms/step\n",
            "1/1 [==============================] - 0s 19ms/step\n",
            "1/1 [==============================] - 0s 18ms/step\n",
            "1/1 [==============================] - 0s 17ms/step\n",
            "1/1 [==============================] - 0s 16ms/step\n",
            "1/1 [==============================] - 0s 16ms/step\n",
            "1/1 [==============================] - 0s 16ms/step\n",
            "1/1 [==============================] - 0s 16ms/step\n",
            "1/1 [==============================] - 0s 17ms/step\n",
            "1/1 [==============================] - 0s 16ms/step\n",
            "1/1 [==============================] - 0s 17ms/step\n",
            "1/1 [==============================] - 0s 19ms/step\n",
            "1/1 [==============================] - 0s 16ms/step\n"
          ]
        },
        {
          "output_type": "stream",
          "name": "stderr",
          "text": [
            "/usr/local/lib/python3.10/dist-packages/sklearn/base.py:439: UserWarning: X does not have valid feature names, but RandomForestClassifier was fitted with feature names\n",
            "  warnings.warn(\n"
          ]
        },
        {
          "output_type": "stream",
          "name": "stdout",
          "text": [
            "1/1 [==============================] - 0s 18ms/step\n",
            "1/1 [==============================] - 0s 17ms/step\n",
            "1/1 [==============================] - 0s 17ms/step\n",
            "1/1 [==============================] - 0s 17ms/step\n",
            "1/1 [==============================] - 0s 17ms/step\n",
            "1/1 [==============================] - 0s 16ms/step\n",
            "1/1 [==============================] - 0s 18ms/step\n",
            "1/1 [==============================] - 0s 19ms/step\n",
            "1/1 [==============================] - 0s 17ms/step\n",
            "1/1 [==============================] - 0s 21ms/step\n",
            "1/1 [==============================] - 0s 20ms/step\n",
            "1/1 [==============================] - 0s 17ms/step\n",
            "1/1 [==============================] - 0s 16ms/step\n",
            "1/1 [==============================] - 0s 16ms/step\n",
            "1/1 [==============================] - 0s 16ms/step\n",
            "1/1 [==============================] - 0s 17ms/step\n",
            "1/1 [==============================] - 0s 17ms/step\n",
            "1/1 [==============================] - 0s 19ms/step\n"
          ]
        },
        {
          "output_type": "stream",
          "name": "stderr",
          "text": [
            "/usr/local/lib/python3.10/dist-packages/sklearn/base.py:439: UserWarning: X does not have valid feature names, but RandomForestClassifier was fitted with feature names\n",
            "  warnings.warn(\n"
          ]
        },
        {
          "output_type": "stream",
          "name": "stdout",
          "text": [
            "1/1 [==============================] - 0s 17ms/step\n",
            "1/1 [==============================] - 0s 16ms/step\n",
            "1/1 [==============================] - 0s 17ms/step\n",
            "1/1 [==============================] - 0s 26ms/step\n",
            "1/1 [==============================] - 0s 19ms/step\n",
            "1/1 [==============================] - 0s 16ms/step\n",
            "1/1 [==============================] - 0s 18ms/step\n",
            "1/1 [==============================] - 0s 16ms/step\n",
            "1/1 [==============================] - 0s 17ms/step\n",
            "1/1 [==============================] - 0s 17ms/step\n",
            "1/1 [==============================] - 0s 17ms/step\n",
            "1/1 [==============================] - 0s 17ms/step\n",
            "1/1 [==============================] - 0s 18ms/step\n",
            "1/1 [==============================] - 0s 17ms/step\n",
            "1/1 [==============================] - 0s 17ms/step\n",
            "1/1 [==============================] - 0s 17ms/step\n",
            "1/1 [==============================] - 0s 16ms/step\n",
            "1/1 [==============================] - 0s 17ms/step\n"
          ]
        }
      ]
    },
    {
      "cell_type": "code",
      "source": [
        "data_new = pd.read_csv('Botnet-Training-Short.csv')\n",
        "forest_new = RandomForestClassifier()\n",
        "detector_new = Detector(forest_new)\n",
        "data_new = pd.concat([data_new, pd.DataFrame(learner.env.result)], ignore_index=True)\n",
        "detector_new.fit(data_new)\n",
        "test_data = pd.read_csv('Botnet-Testing-Short.csv')\n",
        "detector.test(test_data)"
      ],
      "metadata": {
        "id": "ySL3WLCUk3_9",
        "outputId": "2188dc1e-6c43-44f2-b7ed-1c1838bba1a8",
        "colab": {
          "base_uri": "https://localhost:8080/"
        }
      },
      "execution_count": null,
      "outputs": [
        {
          "output_type": "stream",
          "name": "stdout",
          "text": [
            "Accuracy: 0.7460011946638349\n",
            "[[21633  1410]\n",
            " [ 6244   847]]\n",
            "              precision    recall  f1-score   support\n",
            "\n",
            "           0       0.78      0.94      0.85     23043\n",
            "           1       0.38      0.12      0.18      7091\n",
            "\n",
            "    accuracy                           0.75     30134\n",
            "   macro avg       0.58      0.53      0.52     30134\n",
            "weighted avg       0.68      0.75      0.69     30134\n",
            "\n"
          ]
        }
      ]
    },
    {
      "cell_type": "markdown",
      "source": [
        "        self.space = [{\"Name\": \"Flow Duration\", \"Action\": \"+Flow Duration\", \"Value\": 0.01},\n",
        "                      {\"Name\": \"Flow Duration\", \"Action\": \"-Flow Duration\", \"Value\": -0.01},\n",
        "                      {\"Name\": \"TotLen Fwd Pkts\", \"Action\": \"+TotLen Fwd Pkts\", \"Value\": 0.01},\n",
        "                      {\"Name\": \"TotLen Fwd Pkts\", \"Action\": \"-TotLen Fwd Pkts\", \"Value\": -0.01},\n",
        "                      {\"Name\": \"TotLen Bwd Pkts\", \"Action\": \"+TotLen Bwd Pkts\", \"Value\": 0.01},\n",
        "                      {\"Name\": \"TotLen Bwd Pkts\", \"Action\": \"-TotLen Bwd Pkts\", \"Value\": -0.01},\n",
        "                      {\"Name\": \"Flow Byts/s\", \"Action\": \"+Flow Byts/s\", \"Value\": 0.01},\n",
        "                      {\"Name\": \"Flow Byts/s\", \"Action\": \"-Flow Byts/s\", \"Value\": -0.01},\n",
        "                      {\"Name\": \"Flow Pkts/s\", \"Action\": \"+Flow Pkts/s\", \"Value\": 0.01},\n",
        "                      {\"Name\": \"Flow Pkts/s\", \"Action\": \"-Flow Pkts/s\", \"Value\": -0.01},\n",
        "                      {\"Name\": \"Bwd/Fwd Ratio\", \"Action\": \"+Bwd/Fwd Ratio\", \"Value\": 0.01},\n",
        "                      {\"Name\": \"Bwd/Fwd Ratio\", \"Action\": \"-Bwd/Fwd Ratio\", \"Value\": -0.01},\n",
        "                      {\"Name\": \"Pkt Size Avg\", \"Action\": \"+Pkt Size Avg\", \"Value\": 0.01},\n",
        "                      {\"Name\": \"Pkt Size Avg\", \"Action\": \"-Pkt Size Avg\", \"Value\": -0.01}]"
      ],
      "metadata": {
        "id": "rlS1MBiAbdqN"
      }
    },
    {
      "cell_type": "code",
      "source": [
        "# class CEM():\n",
        "#     def __init__(self, state_n, action_n):\n",
        "#       self.state_n = state_n\n",
        "#       self.action_n = action_n\n",
        "#       self.policy = np.ones((self.state_n, self.action_n)) / self.action_n\n",
        "\n",
        "#     def get_action(self, state):\n",
        "#       return int(np.random.choice(np.arange(self.action_n), p=self.policy[state]))\n",
        "\n",
        "#     def update_policy(self, elite_tr):\n",
        "#       pre_policy = np.zeros((state_n, action_n))\n",
        "\n",
        "#       for tr in elite_tr:\n",
        "#         for state, action in zip(tr['states'], tr['actions']):\n",
        "#           pre_policy[state][action] += 1\n",
        "\n",
        "#           for state in range(self.action_n):\n",
        "#             if sum(pre_policy[state]) == 0:\n",
        "#               self.policy[state] = np.ones(self.action_n) / self.action_n\n",
        "#             else:\n",
        "#               self.policy[state] = pre_policy[state] / sum(pre_policy[state])"
      ],
      "metadata": {
        "id": "Y2yfqwRcXKqB"
      },
      "execution_count": null,
      "outputs": []
    },
    {
      "cell_type": "code",
      "source": [
        "# class CEMAgent():\n",
        "#     def __init__(self, env, agent_logic):\n",
        "#       self.env = env\n",
        "#       self.agent_logic = agent_logic\n",
        "\n",
        "#     def get_state(self):\n",
        "#       return None\n",
        "\n",
        "#     def get_trajectory(self, tr_len):\n",
        "#       tr = {'states': [], 'actions': [], 'total_reward': 0}\n",
        "\n",
        "#       obs = self.env.reset()\n",
        "#       state = get_state(obs)\n",
        "#       tr['states'].append(state)\n",
        "\n",
        "#       for _ in range(tr_len):\n",
        "#           action = self.agent_logic.get_action(state)\n",
        "#           tr['actions'].append(action)\n",
        "\n",
        "#           obs, reward, done = env.step(action)\n",
        "#           state = get_state(obs)\n",
        "#           tr['total_reward'] += reward\n",
        "\n",
        "#           if done:\n",
        "#               break\n",
        "\n",
        "#           tr['states'].append(state)\n",
        "\n",
        "#         return tr\n",
        "#       def get_elite_trajectories(self, trajectories, q):\n",
        "#           total = [tr['total_reward'] for tr in trajectories]\n",
        "#           quantile = np.quantile(total, q=q)\n",
        "#           return [tr for tr in trajectories if tr['total_reward'] > quantile]\n",
        "\n",
        "#       def fit(self, episode_n, trajectory_n, trajectory_len, q):\n",
        "#           for _ in range(episode_n):\n",
        "#               trajectories = [get_trajectory(trajectory_len) for _ in range(trajectory_n)]\n",
        "\n",
        "#               mean_total = np.mean([trajectory['total_reward'] for trajectory in trajectories])\n",
        "#               print(mean_total)\n",
        "#               elite = get_elite_trajectories(trajectories, q)\n",
        "\n",
        "#               if len(elite) > 0:\n",
        "#                   self.agent_logic.update_policy(elite)"
      ],
      "metadata": {
        "id": "581vBZbWe6wv"
      },
      "execution_count": null,
      "outputs": []
    }
  ]
}